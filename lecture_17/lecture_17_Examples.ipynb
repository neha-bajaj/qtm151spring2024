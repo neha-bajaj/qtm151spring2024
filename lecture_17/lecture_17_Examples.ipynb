{
 "cells": [
  {
   "attachments": {},
   "cell_type": "markdown",
   "metadata": {},
   "source": [
    "# <span style=\"color:darkblue\"> Lecture 15 - Practicing Chaining </span>\n",
    "\n",
    "<font size = \"5\">\n",
    "\n",
    "In this lecture you will get a chance to practice <br>\n",
    "the main dataset operations\n",
    "\n",
    "- There will be a quiz on this lecture"
   ]
  },
  {
   "attachments": {},
   "cell_type": "markdown",
   "metadata": {},
   "source": [
    "# <span style=\"color:darkblue\"> I. Import Libraries and Data </span>\n"
   ]
  },
  {
   "cell_type": "code",
   "execution_count": 1,
   "metadata": {},
   "outputs": [],
   "source": [
    "import numpy as np\n",
    "import pandas as pd\n",
    "import matplotlib.pyplot as plt"
   ]
  },
  {
   "cell_type": "code",
   "execution_count": 19,
   "metadata": {},
   "outputs": [],
   "source": [
    "results  = pd.read_csv(\"data_raw/results.csv\")\n",
    "races    = pd.read_csv(\"data_raw/races.csv\")\n",
    "results[\"points col\"] = results[\"points\"]"
   ]
  },
  {
   "cell_type": "markdown",
   "metadata": {},
   "source": [
    "# <span style=\"color:darkblue\"> II. Review of Diagnostic Commands </span>\n"
   ]
  },
  {
   "cell_type": "markdown",
   "metadata": {},
   "source": [
    "<font size = \"5\">\n",
    "\n",
    "More details ...\n",
    "\n",
    "https://www.w3schools.com/python/pandas/pandas_cleaning.asp"
   ]
  },
  {
   "cell_type": "code",
   "execution_count": null,
   "metadata": {},
   "outputs": [],
   "source": [
    "# (a) Count number of observations\n",
    "n_total   = len(results)\n",
    "\n",
    "# (b) Count non-missing observations\n",
    "n_nonmiss = results[\"points\"].count()\n",
    "\n",
    "# (b) Get column names\n",
    "list_names = results.columns.names\n",
    "\n",
    "# (c) Unique values\n",
    "list_ids   = pd.unique(results[\"constructorId\"])\n"
   ]
  },
  {
   "attachments": {},
   "cell_type": "markdown",
   "metadata": {},
   "source": [
    "# <span style=\"color:darkblue\"> II. Examples of Dataset Operations </span>\n",
    "\n",
    "<font size = \"5\">\n",
    "\n",
    "Full list of commands here:\n",
    "\n",
    "https://www.w3schools.com/python/pandas/pandas_ref_dataframe.asp"
   ]
  },
  {
   "attachments": {},
   "cell_type": "markdown",
   "metadata": {},
   "source": [
    "<font size = \"5\">\n",
    "\n",
    "```[] ```: Extracting columns"
   ]
  },
  {
   "cell_type": "code",
   "execution_count": 10,
   "metadata": {},
   "outputs": [],
   "source": [
    "subset_cols = results[[\"constructorId\",\"points\",\"laps\"]]"
   ]
  },
  {
   "cell_type": "markdown",
   "metadata": {},
   "source": [
    "<font size = \"5\">\n",
    "\n",
    "```.query() ```: Filtering a subset of rows"
   ]
  },
  {
   "cell_type": "code",
   "execution_count": 26,
   "metadata": {},
   "outputs": [],
   "source": [
    "lower_value          = 20\n",
    "subset_row_text      = races.query('name == \"Australian Grand Prix\"')\n",
    "subset_row_ineq      = results.query('(points >= 20) & (points <= 30)')\n",
    "subset_row_global    = results.query('(points >= @lower_value)')\n",
    "subset_row_colspaces = results.query('(`points col` >= @lower_value)')"
   ]
  },
  {
   "attachments": {},
   "cell_type": "markdown",
   "metadata": {},
   "source": [
    "<font size = \"5\">\n",
    "\n",
    "```.recode() ```: Replacing values"
   ]
  },
  {
   "cell_type": "code",
   "execution_count": 28,
   "metadata": {},
   "outputs": [],
   "source": [
    "results   = results.replace(to_replace = [\"UK\",\"USA\"],\n",
    "                            value = [\"United Kingdom\",\"United States\"])"
   ]
  },
  {
   "attachments": {},
   "cell_type": "markdown",
   "metadata": {},
   "source": [
    "<font size = \"5\">\n",
    "\n",
    "```.groupby().agg() ```: Aggregate statistics by subgroup"
   ]
  },
  {
   "cell_type": "code",
   "execution_count": 31,
   "metadata": {},
   "outputs": [],
   "source": [
    "results_agg = results.groupby(\"driverId\").agg( median_points = (\"points\",\"median\"))"
   ]
  },
  {
   "attachments": {},
   "cell_type": "markdown",
   "metadata": {},
   "source": [
    "<font size = \"5\">\n",
    "\n",
    "```.rename() ```: Change name of columns"
   ]
  },
  {
   "cell_type": "code",
   "execution_count": 35,
   "metadata": {},
   "outputs": [],
   "source": [
    "races_rename = races.rename(columns = {\"name\": \"new_name\"})"
   ]
  },
  {
   "cell_type": "code",
   "execution_count": 1,
   "metadata": {},
   "outputs": [
    {
     "ename": "NameError",
     "evalue": "name 'circuits' is not defined",
     "output_type": "error",
     "traceback": [
      "\u001b[0;31m---------------------------------------------------------------------------\u001b[0m",
      "\u001b[0;31mNameError\u001b[0m                                 Traceback (most recent call last)",
      "Cell \u001b[0;32mIn[1], line 6\u001b[0m\n\u001b[1;32m      1\u001b[0m \u001b[38;5;66;03m#Part A Quiz:  Replace the values of a column\u001b[39;00m\n\u001b[1;32m      2\u001b[0m \u001b[38;5;66;03m#Obtain unique string values of a column\u001b[39;00m\n\u001b[1;32m      3\u001b[0m \u001b[38;5;66;03m#Use the \".replace()\" command\u001b[39;00m\n\u001b[1;32m      4\u001b[0m \n\u001b[1;32m      5\u001b[0m \u001b[38;5;66;03m#Obtaining the unique string values of a column \u001b[39;00m\n\u001b[0;32m----> 6\u001b[0m subset \u001b[38;5;241m=\u001b[39m circuits\u001b[38;5;241m.\u001b[39mquery(\u001b[38;5;124m\"\u001b[39m\u001b[38;5;124malt.str.isnumeric() == False\u001b[39m\u001b[38;5;124m\"\u001b[39m) \u001b[38;5;66;03m#creating a variable, subset, that contains all of the rows of data in circuits in which alt is non numeric \u001b[39;00m\n\u001b[1;32m      7\u001b[0m list_unique \u001b[38;5;241m=\u001b[39m pd\u001b[38;5;241m.\u001b[39munique(subset[\u001b[38;5;124m\"\u001b[39m\u001b[38;5;124malt\u001b[39m\u001b[38;5;124m\"\u001b[39m]) \u001b[38;5;66;03m#creating a list with unique values from the subset \u001b[39;00m\n\u001b[1;32m      8\u001b[0m \u001b[38;5;28mprint\u001b[39m(list_unique)\n",
      "\u001b[0;31mNameError\u001b[0m: name 'circuits' is not defined"
     ]
    }
   ],
   "source": [
    "#Part A Quiz:  Replace the values of a column\n",
    "#Obtain unique string values of a column\n",
    "#Use the \".replace()\" command\n",
    "\n",
    "#Obtaining the unique string values of a column \n",
    "subset = circuits.query(\"alt.str.isnumeric() == False\") #creating a variable, subset, that contains all of the rows of data in circuits in which alt is non numeric \n",
    "list_unique = pd.unique(subset[\"alt\"]) #creating a list with unique values from the subset \n",
    "print(list_unique)\n",
    "\n",
    "\n",
    "list_old = ['\\\\N','-7'] #old values from the unique list created from the extraction above \n",
    "list_new = [np.nan, -7] #replacing \\\\N with np.nan and '-7' with -7 (string to number)\n",
    "\n",
    "# This command replaces the values of the \"alt\" column\n",
    "circuits[\"alt\"] = circuits[\"alt\"].replace(list_old, list_new) #replaces the old values in the alt column with the new values "
   ]
  },
  {
   "cell_type": "code",
   "execution_count": null,
   "metadata": {},
   "outputs": [],
   "source": [
    "#Part B Quiz \n",
    "\n",
    "#Recode a numeric column\n",
    "#Use the \"pd.cut()\" command to create a new column based on an interval.\n",
    "\n",
    "students = pd.read_csv(\"data_raw/students.csv\")\n",
    "bins = [-1, 54, 59, 64, 69, 74, 79, 82, 86, 92, 100]\n",
    "labels = ['F', 'D', 'C-', 'C', 'C+', 'B-', 'B', 'B+', 'A-', 'A']\n",
    "students[\"lettergrade\"] = pd.cut(students[\"numericgrade\"], bins=bins, labels=labels, right=True)\n",
    "students"
   ]
  },
  {
   "cell_type": "code",
   "execution_count": null,
   "metadata": {},
   "outputs": [],
   "source": [
    "#Part C Quiz\n",
    "#query/groupby/agg commands\n",
    "\n",
    "results[\"position\"] = pd.to_numeric(results[\"position\"], errors=\"coerce\") #Only use if there are NA's \n",
    "\n",
    "susbsetquery = (results.query(\"raceId >= 150\"))\n",
    "df_subAggCon_pos = (susbsetquery.groupby(\"constructorId\")\n",
    "                      .agg(mean_position = (\"position\",\"mean\"),\n",
    "                           sd_position = (\"position\",\"std\")))\n",
    "df_subAggCon_pos"
   ]
  },
  {
   "cell_type": "code",
   "execution_count": null,
   "metadata": {},
   "outputs": [],
   "source": [
    "#Part D Quiz \n",
    "#groupby/agg/sortvalues\n",
    "\n",
    "constructor_agg = (results.groupby(\"constructorId\").agg(mean_points = (\"points\", \"mean\")).sort_values(by = \"mean_points\", ascending = False))\n",
    "constructor_agg"
   ]
  },
  {
   "cell_type": "code",
   "execution_count": 1,
   "metadata": {},
   "outputs": [
    {
     "ename": "NameError",
     "evalue": "name 'circuits_raw' is not defined",
     "output_type": "error",
     "traceback": [
      "\u001b[0;31m---------------------------------------------------------------------------\u001b[0m",
      "\u001b[0;31mNameError\u001b[0m                                 Traceback (most recent call last)",
      "Cell \u001b[0;32mIn[1], line 5\u001b[0m\n\u001b[1;32m      1\u001b[0m \u001b[38;5;66;03m#Part E Quiz\u001b[39;00m\n\u001b[1;32m      2\u001b[0m \u001b[38;5;66;03m#Create a dictionary\u001b[39;00m\n\u001b[1;32m      3\u001b[0m \u001b[38;5;66;03m#Rename one or more columns in a dataset using the dictionary\u001b[39;00m\n\u001b[0;32m----> 5\u001b[0m circuits_raw\u001b[38;5;241m.\u001b[39mrename(columns\u001b[38;5;241m=\u001b[39m{\u001b[38;5;124m'\u001b[39m\u001b[38;5;124mname\u001b[39m\u001b[38;5;124m'\u001b[39m:\u001b[38;5;124m'\u001b[39m\u001b[38;5;124mcircuit_name\u001b[39m\u001b[38;5;124m'\u001b[39m}) \u001b[38;5;66;03m#renames the column labeled 'name' to 'circuit_name' in the DataFrame circuits_raw.\u001b[39;00m\n\u001b[1;32m      6\u001b[0m dict_rename_circuits \u001b[38;5;241m=\u001b[39m {\u001b[38;5;124m\"\u001b[39m\u001b[38;5;124mname\u001b[39m\u001b[38;5;124m\"\u001b[39m: \u001b[38;5;124m\"\u001b[39m\u001b[38;5;124mcircuit_name\u001b[39m\u001b[38;5;124m\"\u001b[39m} \u001b[38;5;66;03m#define a dictionary with the name change \u001b[39;00m\n\u001b[1;32m      7\u001b[0m circuits \u001b[38;5;241m=\u001b[39m circuits_raw\u001b[38;5;241m.\u001b[39mrename(columns \u001b[38;5;241m=\u001b[39m dict_rename_circuits) \u001b[38;5;66;03m#create a variable called circuits in which name is renamed to circuit name \u001b[39;00m\n",
      "\u001b[0;31mNameError\u001b[0m: name 'circuits_raw' is not defined"
     ]
    }
   ],
   "source": [
    "#Part E Quiz\n",
    "#Create a dictionary\n",
    "#Rename one or more columns in a dataset using the dictionary\n",
    "\n",
    "#one column\n",
    "dict_rename_circuits = {\"name\": \"circuit_name\"} #define a dictionary with the name change \n",
    "circuits_raw.rename(columns={'name':'circuit_name'}) #renames the column labeled 'name' to 'circuit_name' in the DataFrame circuits_raw but does not create a dicttionary \n",
    "\n",
    "\n",
    "#multiple column \n",
    "races_merge_pitball_fixed = races_merge_pitfall.rename(columns = {\"name_x\":\"name_circuits\", \n",
    "                                                                  \"name_y\":\"name_races\"})\n",
    "races_merge_pitball_fixed"
   ]
  },
  {
   "cell_type": "code",
   "execution_count": null,
   "metadata": {},
   "outputs": [],
   "source": [
    "#Part F Quiz\n",
    "#Use \"pd.merge\" to combine two datasets: #primary and secondary\n",
    "#Only merge a subset of the columns of the\n",
    "#secondary dataset\n",
    "#Use \"display\" to show a the merged dataset, \n",
    "#extracting a subset of the columns\n",
    "\n",
    "\n",
    "races_merge = pd.merge(races_raw[['raceId', 'year', 'circuitId']],\n",
    "                       circuits[[\"circuitId\",\"circuit_name\", \"location\"]],\n",
    "                       on = \"circuitId\",\n",
    "                       how = \"left\")\n",
    "results_merge = pd.merge(results_raw,\n",
    "                         races_raw[[\"raceId\",\"date\"]],\n",
    "                         on = \"raceId\",\n",
    "                         how = \"left\")\n",
    "\n",
    "races_merge_pitfall = pd.merge(races_raw, \n",
    "                               circuits_raw[[\"circuitId\", \"name\", \"alt\", \"lng\", \"lat\"]], \n",
    "                               on= \"circuitId\", \n",
    "                               how = \"left\")\n",
    "\n",
    "\n",
    "\n",
    "\n"
   ]
  }
 ],
 "metadata": {
  "kernelspec": {
   "display_name": "base",
   "language": "python",
   "name": "python3"
  },
  "language_info": {
   "codemirror_mode": {
    "name": "ipython",
    "version": 3
   },
   "file_extension": ".py",
   "mimetype": "text/x-python",
   "name": "python",
   "nbconvert_exporter": "python",
   "pygments_lexer": "ipython3",
   "version": "3.11.5"
  },
  "orig_nbformat": 4,
  "vscode": {
   "interpreter": {
    "hash": "45fc1f684f6f416f40889115beff3ddf69879b64cf4bfee48cb72a61e9d15d1a"
   }
  }
 },
 "nbformat": 4,
 "nbformat_minor": 2
}
